{
 "cells": [
  {
   "cell_type": "code",
   "execution_count": 2,
   "id": "79309807-123e-4535-a90a-214d2996fedc",
   "metadata": {},
   "outputs": [
    {
     "name": "stdout",
     "output_type": "stream",
     "text": [
      "Versão da Linguagem Python Usada Neste Jupyter Notebook: 3.9.13\n"
     ]
    }
   ],
   "source": [
    "# Versão da Linguagem Python\n",
    "from platform import python_version\n",
    "print('Versão da Linguagem Python Usada Neste Jupyter Notebook:', python_version())"
   ]
  },
  {
   "cell_type": "code",
   "execution_count": 5,
   "id": "4e3669e9-570b-426f-9141-0bf14b6d00bb",
   "metadata": {},
   "outputs": [
    {
     "name": "stderr",
     "output_type": "stream",
     "text": [
      "WARNING: Retrying (Retry(total=4, connect=None, read=None, redirect=None, status=None)) after connection broken by 'ConnectTimeoutError(<pip._vendor.urllib3.connection.HTTPSConnection object at 0x00000222A0394280>, 'Connection to pypi.org timed out. (connect timeout=15)')': /simple/geopandas/\n",
      "WARNING: Retrying (Retry(total=3, connect=None, read=None, redirect=None, status=None)) after connection broken by 'ConnectTimeoutError(<pip._vendor.urllib3.connection.HTTPSConnection object at 0x00000222A0394580>, 'Connection to pypi.org timed out. (connect timeout=15)')': /simple/geopandas/\n",
      "WARNING: Retrying (Retry(total=2, connect=None, read=None, redirect=None, status=None)) after connection broken by 'ConnectTimeoutError(<pip._vendor.urllib3.connection.HTTPSConnection object at 0x00000222A0394850>, 'Connection to pypi.org timed out. (connect timeout=15)')': /simple/geopandas/\n",
      "WARNING: Retrying (Retry(total=1, connect=None, read=None, redirect=None, status=None)) after connection broken by 'ConnectTimeoutError(<pip._vendor.urllib3.connection.HTTPSConnection object at 0x00000222A0394940>, 'Connection to pypi.org timed out. (connect timeout=15)')': /simple/geopandas/\n",
      "WARNING: Retrying (Retry(total=0, connect=None, read=None, redirect=None, status=None)) after connection broken by 'ConnectTimeoutError(<pip._vendor.urllib3.connection.HTTPSConnection object at 0x00000222A0394AC0>, 'Connection to pypi.org timed out. (connect timeout=15)')': /simple/geopandas/\n",
      "ERROR: Could not find a version that satisfies the requirement geopandas (from versions: none)\n",
      "ERROR: No matching distribution found for geopandas\n",
      "WARNING: There was an error checking the latest version of pip.\n"
     ]
    }
   ],
   "source": [
    "!pip install geopandas"
   ]
  },
  {
   "cell_type": "code",
   "execution_count": 15,
   "id": "5632aeb5-f31f-41e9-8364-5e1b047b0463",
   "metadata": {},
   "outputs": [
    {
     "name": "stderr",
     "output_type": "stream",
     "text": [
      "WARNING: Retrying (Retry(total=4, connect=None, read=None, redirect=None, status=None)) after connection broken by 'ConnectTimeoutError(<pip._vendor.urllib3.connection.HTTPSConnection object at 0x000001B7947D5220>, 'Connection to pypi.org timed out. (connect timeout=15)')': /simple/arcpy/\n",
      "WARNING: Retrying (Retry(total=3, connect=None, read=None, redirect=None, status=None)) after connection broken by 'ConnectTimeoutError(<pip._vendor.urllib3.connection.HTTPSConnection object at 0x000001B7947D5520>, 'Connection to pypi.org timed out. (connect timeout=15)')': /simple/arcpy/\n",
      "WARNING: Retrying (Retry(total=2, connect=None, read=None, redirect=None, status=None)) after connection broken by 'ConnectTimeoutError(<pip._vendor.urllib3.connection.HTTPSConnection object at 0x000001B7947D57F0>, 'Connection to pypi.org timed out. (connect timeout=15)')': /simple/arcpy/\n",
      "WARNING: Retrying (Retry(total=1, connect=None, read=None, redirect=None, status=None)) after connection broken by 'ConnectTimeoutError(<pip._vendor.urllib3.connection.HTTPSConnection object at 0x000001B7947D5970>, 'Connection to pypi.org timed out. (connect timeout=15)')': /simple/arcpy/\n",
      "WARNING: Retrying (Retry(total=0, connect=None, read=None, redirect=None, status=None)) after connection broken by 'ConnectTimeoutError(<pip._vendor.urllib3.connection.HTTPSConnection object at 0x000001B7947D5AF0>, 'Connection to pypi.org timed out. (connect timeout=15)')': /simple/arcpy/\n",
      "ERROR: Could not find a version that satisfies the requirement arcpy (from versions: none)\n",
      "ERROR: No matching distribution found for arcpy\n",
      "WARNING: There was an error checking the latest version of pip.\n"
     ]
    }
   ],
   "source": [
    "!pip install arcpy"
   ]
  },
  {
   "cell_type": "code",
   "execution_count": 16,
   "id": "8928e433-76d8-49e6-8867-17606e70e488",
   "metadata": {},
   "outputs": [
    {
     "ename": "ModuleNotFoundError",
     "evalue": "No module named 'arcpy'",
     "output_type": "error",
     "traceback": [
      "\u001b[1;31m---------------------------------------------------------------------------\u001b[0m",
      "\u001b[1;31mModuleNotFoundError\u001b[0m                       Traceback (most recent call last)",
      "\u001b[1;32m~\\AppData\\Local\\Temp\\ipykernel_26040\\2733686891.py\u001b[0m in \u001b[0;36m<module>\u001b[1;34m\u001b[0m\n\u001b[0;32m      1\u001b[0m \u001b[1;32mimport\u001b[0m \u001b[0mnumpy\u001b[0m \u001b[1;32mas\u001b[0m \u001b[0mnp\u001b[0m\u001b[1;33m\u001b[0m\u001b[1;33m\u001b[0m\u001b[0m\n\u001b[0;32m      2\u001b[0m \u001b[1;32mimport\u001b[0m \u001b[0mpandas\u001b[0m \u001b[1;32mas\u001b[0m \u001b[0mpd\u001b[0m\u001b[1;33m\u001b[0m\u001b[1;33m\u001b[0m\u001b[0m\n\u001b[1;32m----> 3\u001b[1;33m \u001b[1;32mimport\u001b[0m \u001b[0marcpy\u001b[0m\u001b[1;33m\u001b[0m\u001b[1;33m\u001b[0m\u001b[0m\n\u001b[0m",
      "\u001b[1;31mModuleNotFoundError\u001b[0m: No module named 'arcpy'"
     ]
    }
   ],
   "source": [
    "import numpy as np\n",
    "import pandas as pd"
   ]
  },
  {
   "cell_type": "code",
   "execution_count": 18,
   "id": "e453169f-9478-4db8-8dee-79f098ac96b1",
   "metadata": {},
   "outputs": [
    {
     "ename": "ModuleNotFoundError",
     "evalue": "No module named 'arcpy'",
     "output_type": "error",
     "traceback": [
      "\u001b[1;31m---------------------------------------------------------------------------\u001b[0m",
      "\u001b[1;31mModuleNotFoundError\u001b[0m                       Traceback (most recent call last)",
      "\u001b[1;32m~\\AppData\\Local\\Temp\\ipykernel_26040\\3709015372.py\u001b[0m in \u001b[0;36m<module>\u001b[1;34m\u001b[0m\n\u001b[1;32m----> 1\u001b[1;33m \u001b[1;32mimport\u001b[0m \u001b[0marcpy\u001b[0m\u001b[1;33m\u001b[0m\u001b[1;33m\u001b[0m\u001b[0m\n\u001b[0m",
      "\u001b[1;31mModuleNotFoundError\u001b[0m: No module named 'arcpy'"
     ]
    }
   ],
   "source": [
    "import arcpy"
   ]
  },
  {
   "cell_type": "code",
   "execution_count": 17,
   "id": "ff059902-dd47-41b8-9380-ffd523b1b126",
   "metadata": {},
   "outputs": [
    {
     "ename": "ModuleNotFoundError",
     "evalue": "No module named 'arcpy'",
     "output_type": "error",
     "traceback": [
      "\u001b[1;31m---------------------------------------------------------------------------\u001b[0m",
      "\u001b[1;31mModuleNotFoundError\u001b[0m                       Traceback (most recent call last)",
      "\u001b[1;32m~\\AppData\\Local\\Temp\\ipykernel_26040\\165955928.py\u001b[0m in \u001b[0;36m<module>\u001b[1;34m\u001b[0m\n\u001b[1;32m----> 1\u001b[1;33m \u001b[1;32mimport\u001b[0m \u001b[0marcpy\u001b[0m\u001b[1;33m.\u001b[0m\u001b[0mmp\u001b[0m\u001b[1;33m\u001b[0m\u001b[1;33m\u001b[0m\u001b[0m\n\u001b[0m",
      "\u001b[1;31mModuleNotFoundError\u001b[0m: No module named 'arcpy'"
     ]
    }
   ],
   "source": [
    "import arcpy.mp"
   ]
  },
  {
   "cell_type": "code",
   "execution_count": 19,
   "id": "4c6839b6-d9c1-481f-b52f-7a6ab60cb70a",
   "metadata": {},
   "outputs": [
    {
     "ename": "ModuleNotFoundError",
     "evalue": "No module named 'arcpy'",
     "output_type": "error",
     "traceback": [
      "\u001b[1;31m---------------------------------------------------------------------------\u001b[0m",
      "\u001b[1;31mModuleNotFoundError\u001b[0m                       Traceback (most recent call last)",
      "\u001b[1;32m~\\AppData\\Local\\Temp\\ipykernel_26040\\1664412300.py\u001b[0m in \u001b[0;36m<module>\u001b[1;34m\u001b[0m\n\u001b[1;32m----> 1\u001b[1;33m \u001b[1;32mfrom\u001b[0m \u001b[0marcpy\u001b[0m \u001b[1;32mimport\u001b[0m \u001b[0menv\u001b[0m\u001b[1;33m\u001b[0m\u001b[1;33m\u001b[0m\u001b[0m\n\u001b[0m\u001b[0;32m      2\u001b[0m \u001b[0menv\u001b[0m\u001b[1;33m.\u001b[0m\u001b[0mworkspace\u001b[0m \u001b[1;33m=\u001b[0m \u001b[1;34m'C:\\Bendo\\Python\\SEPUR'\u001b[0m\u001b[1;33m\u001b[0m\u001b[1;33m\u001b[0m\u001b[0m\n",
      "\u001b[1;31mModuleNotFoundError\u001b[0m: No module named 'arcpy'"
     ]
    }
   ],
   "source": [
    "from arcpy import env\n",
    "env.workspace = 'C:\\Bendo\\Python\\SEPUR'"
   ]
  },
  {
   "cell_type": "markdown",
   "id": "f252b2fa-d9e7-4803-ae40-9357de289dff",
   "metadata": {},
   "source": [
    "# Programa Python"
   ]
  },
  {
   "cell_type": "code",
   "execution_count": null,
   "id": "28888aa5-9078-4044-a2d1-ada5899df541",
   "metadata": {},
   "outputs": [],
   "source": [
    "print(\"Bem-vindo ao Calculador de Área de Paralelogramo\")"
   ]
  },
  {
   "cell_type": "code",
   "execution_count": null,
   "id": "8347a82a-d8e3-453c-8f9b-b6bde71caf3b",
   "metadata": {},
   "outputs": [],
   "source": [
    "base = float(input(\"Insira o comprimento da base: \"))"
   ]
  },
  {
   "cell_type": "code",
   "execution_count": null,
   "id": "128aaab9-42fa-4220-86c6-687537fe5a33",
   "metadata": {},
   "outputs": [],
   "source": [
    "altura = float(input(\"Insira a altura: \"))"
   ]
  },
  {
   "cell_type": "code",
   "execution_count": null,
   "id": "12e6d254-d7a6-43ca-b8f7-789b16b31ff7",
   "metadata": {},
   "outputs": [],
   "source": [
    "area = base * altura"
   ]
  },
  {
   "cell_type": "code",
   "execution_count": null,
   "id": "23e5ec17-e55f-4e03-a11d-d7179d6483e6",
   "metadata": {},
   "outputs": [],
   "source": [
    "print(\"A área do paralelogramo é: \", area)"
   ]
  },
  {
   "cell_type": "markdown",
   "id": "bddee170-7ac0-4a85-a4cf-eec843fd284c",
   "metadata": {},
   "source": [
    "# Abrindo Shapefile no Python"
   ]
  },
  {
   "cell_type": "code",
   "execution_count": null,
   "id": "b0bb37fe-b99e-47bd-b561-d5e14b4552a0",
   "metadata": {},
   "outputs": [],
   "source": [
    "import geopandas as gpd"
   ]
  },
  {
   "cell_type": "code",
   "execution_count": 10,
   "id": "56ce4431-d3b1-4185-99e6-b27ed9775c92",
   "metadata": {},
   "outputs": [],
   "source": [
    "bairrostable = pd.read_csv(\"bairrostable.csv\")"
   ]
  },
  {
   "cell_type": "code",
   "execution_count": 9,
   "id": "2be1390f-979d-4eea-a959-8d2108c4e3ea",
   "metadata": {},
   "outputs": [],
   "source": [
    "bairrostablexml = pd.read_xml(\"bairros.shp.xml\")"
   ]
  },
  {
   "cell_type": "code",
   "execution_count": 11,
   "id": "0f29f5f3-129a-4c37-a7c3-187687ab836b",
   "metadata": {},
   "outputs": [
    {
     "data": {
      "text/html": [
       "<div>\n",
       "<style scoped>\n",
       "    .dataframe tbody tr th:only-of-type {\n",
       "        vertical-align: middle;\n",
       "    }\n",
       "\n",
       "    .dataframe tbody tr th {\n",
       "        vertical-align: top;\n",
       "    }\n",
       "\n",
       "    .dataframe thead th {\n",
       "        text-align: right;\n",
       "    }\n",
       "</style>\n",
       "<table border=\"1\" class=\"dataframe\">\n",
       "  <thead>\n",
       "    <tr style=\"text-align: right;\">\n",
       "      <th></th>\n",
       "      <th>CreaDate</th>\n",
       "      <th>CreaTime</th>\n",
       "      <th>ArcGISFormat</th>\n",
       "      <th>SyncOnce</th>\n",
       "      <th>DataProperties</th>\n",
       "    </tr>\n",
       "  </thead>\n",
       "  <tbody>\n",
       "    <tr>\n",
       "      <th>0</th>\n",
       "      <td>20240320</td>\n",
       "      <td>9394500</td>\n",
       "      <td>1.0</td>\n",
       "      <td>True</td>\n",
       "      <td>NaN</td>\n",
       "    </tr>\n",
       "  </tbody>\n",
       "</table>\n",
       "</div>"
      ],
      "text/plain": [
       "   CreaDate  CreaTime  ArcGISFormat  SyncOnce  DataProperties\n",
       "0  20240320   9394500           1.0      True             NaN"
      ]
     },
     "execution_count": 11,
     "metadata": {},
     "output_type": "execute_result"
    }
   ],
   "source": [
    "bairrostablexml"
   ]
  },
  {
   "cell_type": "code",
   "execution_count": 12,
   "id": "8745f5e3-0360-4c63-9100-681b1116b235",
   "metadata": {},
   "outputs": [
    {
     "data": {
      "text/html": [
       "<div>\n",
       "<style scoped>\n",
       "    .dataframe tbody tr th:only-of-type {\n",
       "        vertical-align: middle;\n",
       "    }\n",
       "\n",
       "    .dataframe tbody tr th {\n",
       "        vertical-align: top;\n",
       "    }\n",
       "\n",
       "    .dataframe thead th {\n",
       "        text-align: right;\n",
       "    }\n",
       "</style>\n",
       "<table border=\"1\" class=\"dataframe\">\n",
       "  <thead>\n",
       "    <tr style=\"text-align: right;\">\n",
       "      <th></th>\n",
       "      <th></th>\n",
       "      <th>OID_;nome_bairr;usuario_ad;dt_inc;dt_upd;id_bairro;created_user;created_date;last_edited_user;last_edited_date;st_area_shape_;st_perimeter_shape_</th>\n",
       "    </tr>\n",
       "  </thead>\n",
       "  <tbody>\n",
       "    <tr>\n",
       "      <th>1;RIO BONITO;u49111;24/08/2017 17:09:00;05/10/2022 08:44:58;423;;;;;6682848</th>\n",
       "      <th>246758039109409;22563</th>\n",
       "      <td>686284480176255</td>\n",
       "    </tr>\n",
       "    <tr>\n",
       "      <th>2;GLÓRIA;sde;24/08/2017 17:09:00;31/08/2017 07:24:28;205;;;;;5370662</th>\n",
       "      <th>344207992777228;11371</th>\n",
       "      <td>285521713767594</td>\n",
       "    </tr>\n",
       "    <tr>\n",
       "      <th>3;ATIRADORES;sde;24/08/2017 17:09:00;31/08/2017 07:24:28;402;;;;;2809952</th>\n",
       "      <th>159463442396373;8558</th>\n",
       "      <td>105706777725572</td>\n",
       "    </tr>\n",
       "    <tr>\n",
       "      <th>4;ANITA GARIBALDI;sde;24/08/2017 17:09:00;31/08/2017 07:24:28;401;;;;;3042337</th>\n",
       "      <th>210594619158655;8128</th>\n",
       "      <td>63004149320477</td>\n",
       "    </tr>\n",
       "    <tr>\n",
       "      <th>5;FLORESTA;sde;24/08/2017 17:09:00;31/08/2017 07:24:28;405;;;;;4993609</th>\n",
       "      <th>111440338194370;9424</th>\n",
       "      <td>607095108818612</td>\n",
       "    </tr>\n",
       "    <tr>\n",
       "      <th>6;PROFIPO;sde;24/08/2017 17:09:00;31/08/2017 07:24:28;426;;;;;1660552</th>\n",
       "      <th>033098310930654;5379</th>\n",
       "      <td>118094499631297</td>\n",
       "    </tr>\n",
       "    <tr>\n",
       "      <th>7;BOEHMERWALD;sde;24/08/2017 17:09:00;31/08/2017 07:24:28;420;;;;;3136901</th>\n",
       "      <th>244373506400734;7197</th>\n",
       "      <td>243606435681613</td>\n",
       "    </tr>\n",
       "    <tr>\n",
       "      <th>8;PETRÓPOLIS;sde;24/08/2017 17:09:00;31/08/2017 07:24:28;418;;;;;3043619</th>\n",
       "      <th>744794007856399;9820</th>\n",
       "      <td>721008034057377</td>\n",
       "    </tr>\n",
       "    <tr>\n",
       "      <th>9;JOÃO COSTA;sde;24/08/2017 17:09:00;31/08/2017 07:24:28;419;;;;;3410347</th>\n",
       "      <th>379514855798334;8617</th>\n",
       "      <td>127037585103608</td>\n",
       "    </tr>\n",
       "    <tr>\n",
       "      <th>10;JARIVATUBA;sde;24/08/2017 17:09:00;31/08/2017 07:24:28;409;;;;;2085798</th>\n",
       "      <th>000984499463812;6939</th>\n",
       "      <td>197136265966947</td>\n",
       "    </tr>\n",
       "    <tr>\n",
       "      <th>11;ITAUM;sde;24/08/2017 17:09:00;31/08/2017 07:24:28;407;;;;;3178136</th>\n",
       "      <th>083635212387890;8850</th>\n",
       "      <td>106407319161008</td>\n",
       "    </tr>\n",
       "    <tr>\n",
       "      <th>12;BUCAREIN;sde;24/08/2017 17:09:00;31/08/2017 07:24:28;403;;;;;2040183</th>\n",
       "      <th>339271856704727;5887</th>\n",
       "      <td>823929651026447</td>\n",
       "    </tr>\n",
       "    <tr>\n",
       "      <th>14;VILA NOVA;sde;24/08/2017 17:09:00;31/08/2017 07:24:28;209;;;;;14315818</th>\n",
       "      <th>050169557332993;16509</th>\n",
       "      <td>225134708485712</td>\n",
       "    </tr>\n",
       "    <tr>\n",
       "      <th>15;SAO MARCOS;sde;24/08/2017 17:09:00;31/08/2017 07:24:28;412;;;;;5457433</th>\n",
       "      <th>035931007936597;10813</th>\n",
       "      <td>812228676915765</td>\n",
       "    </tr>\n",
       "    <tr>\n",
       "      <th>16;CENTRO;sde;24/08/2017 17:09:00;31/08/2017 07:24:28;101;;;;;1313044</th>\n",
       "      <th>733957598917186;5015</th>\n",
       "      <td>343261282191634</td>\n",
       "    </tr>\n",
       "    <tr>\n",
       "      <th>25;VILA CUBATÃO;u49111;24/08/2017 17:09:00;03/12/2021 12:52:36;215;;;;;348020</th>\n",
       "      <th>290842056332622;2538</th>\n",
       "      <td>572883233875928</td>\n",
       "    </tr>\n",
       "    <tr>\n",
       "      <th>17;AMÉRICA;sde;24/08/2017 17:09:00;31/08/2017 07:24:28;201;;;;;4540326</th>\n",
       "      <th>648793780244887;9213</th>\n",
       "      <td>713289954410357</td>\n",
       "    </tr>\n",
       "    <tr>\n",
       "      <th>18;SANTO ANTÔNIO;sde;24/08/2017 17:09:00;31/08/2017 07:24:28;208;;;;;2199722</th>\n",
       "      <th>561926470138133;6151</th>\n",
       "      <td>362980583456192</td>\n",
       "    </tr>\n",
       "    <tr>\n",
       "      <th>32;ESPINHEIROS;sde;24/08/2017 17:09:00;31/08/2017 07:24:28;417;;;;;2757714</th>\n",
       "      <th>632556288037449;6884</th>\n",
       "      <td>585931651008650</td>\n",
       "    </tr>\n",
       "    <tr>\n",
       "      <th>19;BOM RETIRO;sde;24/08/2017 17:09:00;31/08/2017 07:24:28;202;;;;;3905552</th>\n",
       "      <th>849717033095658;9087</th>\n",
       "      <td>470474091776850</td>\n",
       "    </tr>\n",
       "    <tr>\n",
       "      <th>20;IRIRIÚ;sde;24/08/2017 17:09:00;31/08/2017 07:24:28;207;;;;;6221016</th>\n",
       "      <th>102302483282983;11171</th>\n",
       "      <td>153458302243962</td>\n",
       "    </tr>\n",
       "    <tr>\n",
       "      <th>21;SAGUAÇU;sde;24/08/2017 17:09:00;31/08/2017 07:24:28;206;;;;;4887837</th>\n",
       "      <th>701379268430173;12850</th>\n",
       "      <td>414676501113718</td>\n",
       "    </tr>\n",
       "    <tr>\n",
       "      <th>22;JARDIM SOFIA;u49111;24/08/2017 17:09:00;05/10/2022 08:53:37;212;;;;;2729138</th>\n",
       "      <th>725428963080049;9520</th>\n",
       "      <td>538838070027850</td>\n",
       "    </tr>\n",
       "    <tr>\n",
       "      <th>23;ZONA INDUSTRIAL NORTE;u49111;24/08/2017 17:09:00;05/10/2022 08:55:52;210;;;;;31194431</th>\n",
       "      <th>482116475701332;37526</th>\n",
       "      <td>619198983804381</td>\n",
       "    </tr>\n",
       "    <tr>\n",
       "      <th>24;JARDIM PARAÍSO;u49111;24/08/2017 17:09:00;03/12/2021 12:52:36;415;;;;;3377816</th>\n",
       "      <th>292542146518826;12484</th>\n",
       "      <td>912681214535041</td>\n",
       "    </tr>\n",
       "    <tr>\n",
       "      <th>28;NOVA BRASILIA;u49111;24/08/2017 17:09:00;14/02/2022 14:21:33;410;;;;;8509451</th>\n",
       "      <th>835897844284773;12593</th>\n",
       "      <td>351107451848293</td>\n",
       "    </tr>\n",
       "    <tr>\n",
       "      <th>29;MORRO DO MEIO;u44615;24/08/2017 17:09:00;09/06/2022 10:46:49;413;;;;;5442778</th>\n",
       "      <th>565753790549934;11475</th>\n",
       "      <td>824073418998523</td>\n",
       "    </tr>\n",
       "    <tr>\n",
       "      <th>30;ULYSSES GUIMARAES;sgc;24/08/2017 17:09:00;05/04/2023 16:24:04;424;;;;;3230031</th>\n",
       "      <th>157082153018564;8568</th>\n",
       "      <td>577350363822916</td>\n",
       "    </tr>\n",
       "    <tr>\n",
       "      <th>31;PIRABEIRABA;sde;24/08/2017 17:09:00;31/08/2017 07:24:28;301;;;;;6154962</th>\n",
       "      <th>723070491105318;11390</th>\n",
       "      <td>655743213066671</td>\n",
       "    </tr>\n",
       "    <tr>\n",
       "      <th>33;DONA FRANCISCA;sde;24/08/2017 17:09:00;31/08/2017 07:24:28;422;;;;;1093071</th>\n",
       "      <th>531982650980353;4918</th>\n",
       "      <td>310334583535223</td>\n",
       "    </tr>\n",
       "    <tr>\n",
       "      <th>34;SANTA CATARINA;sde;24/08/2017 17:09:00;31/08/2017 07:24:28;411;;;;;5419471</th>\n",
       "      <th>439016972668469;11551</th>\n",
       "      <td>405466582344161</td>\n",
       "    </tr>\n",
       "    <tr>\n",
       "      <th>36;FÁTIMA;sde;24/08/2017 17:09:00;31/08/2017 07:24:28;404;;;;;2213418</th>\n",
       "      <th>091144542209804;6573</th>\n",
       "      <td>40767574961137</td>\n",
       "    </tr>\n",
       "    <tr>\n",
       "      <th>35;ADHEMAR GARCIA;sde;24/08/2017 17:09:00;31/08/2017 07:24:28;414;;;;;1947382</th>\n",
       "      <th>216845105402172;6172</th>\n",
       "      <td>769074029348303</td>\n",
       "    </tr>\n",
       "    <tr>\n",
       "      <th>37;GUANABARA;sde;24/08/2017 17:09:00;31/08/2017 07:24:28;406;;;;;2552066</th>\n",
       "      <th>200865743216127;6923</th>\n",
       "      <td>16666943076416</td>\n",
       "    </tr>\n",
       "    <tr>\n",
       "      <th>38;BOA VISTA;sde;24/08/2017 17:09:00;31/08/2017 07:24:28;203;;;;;5375092</th>\n",
       "      <th>787734924815595;12978</th>\n",
       "      <td>8189146121367</td>\n",
       "    </tr>\n",
       "    <tr>\n",
       "      <th>39;ZONA INDUSTRIAL TUPY;sde;24/08/2017 17:09:00;31/08/2017 07:24:28;213;;;;;1476160</th>\n",
       "      <th>274849417852238;5123</th>\n",
       "      <td>777468548418256</td>\n",
       "    </tr>\n",
       "    <tr>\n",
       "      <th>40;COMASA;sde;24/08/2017 17:09:00;31/08/2017 07:24:28;214;;;;;2713202</th>\n",
       "      <th>452367506921291;7325</th>\n",
       "      <td>624261904164086</td>\n",
       "    </tr>\n",
       "    <tr>\n",
       "      <th>41;JARDIM IRIRIÚ;sde;24/08/2017 17:09:00;31/08/2017 07:24:28;416;;;;;3299097</th>\n",
       "      <th>742422435898334;8343</th>\n",
       "      <td>158267345286731</td>\n",
       "    </tr>\n",
       "    <tr>\n",
       "      <th>42;COSTA E SILVA;sde;24/08/2017 17:09:00;31/08/2017 07:24:28;204;;;;;6577709</th>\n",
       "      <th>407854002900422;10960</th>\n",
       "      <td>44382429374309</td>\n",
       "    </tr>\n",
       "    <tr>\n",
       "      <th>43;AVENTUREIRO;u44615;24/08/2017 17:09:00;24/04/2018 12:24:42;211;;;;;10665148</th>\n",
       "      <th>442375700920820;19511</th>\n",
       "      <td>619116002395458</td>\n",
       "    </tr>\n",
       "    <tr>\n",
       "      <th>45;PARQUE GUARANI;u44615;24/08/2017 00:00:00;18/01/2022 00:00:00;425;U44615;25/01/2024 14:16:22;U44615;25/01/2024 14:16:22;4406665</th>\n",
       "      <th>009578338824213;9236</th>\n",
       "      <td>74821691418038</td>\n",
       "    </tr>\n",
       "    <tr>\n",
       "      <th>46;PARANAGUAMIRIM;u44615;24/08/2017 00:00:00;18/01/2022 00:00:00;421;U44615;25/01/2024 14:16:22;U44615;25/01/2024 14:16:22;11446338</th>\n",
       "      <th>220446282997727;20748</th>\n",
       "      <td>670077068716637</td>\n",
       "    </tr>\n",
       "    <tr>\n",
       "      <th>44;ITINGA;u49111;24/08/2017 00:00:00;05/10/2022 00:00:00;408;U44615;25/01/2024 14:16:22;U44615;25/01/2024 14:16:22;7776377</th>\n",
       "      <th>455193564295769;12358</th>\n",
       "      <td>622422985208686</td>\n",
       "    </tr>\n",
       "  </tbody>\n",
       "</table>\n",
       "</div>"
      ],
      "text/plain": [
       "                                                                          OID_;nome_bairr;usuario_ad;dt_inc;dt_upd;id_bairro;created_user;created_date;last_edited_user;last_edited_date;st_area_shape_;st_perimeter_shape_\n",
       "1;RIO BONITO;u49111;24/08/2017 17:09:00;05/10/2... 246758039109409;22563                                    686284480176255                                                                                                \n",
       "2;GLÓRIA;sde;24/08/2017 17:09:00;31/08/2017 07:... 344207992777228;11371                                    285521713767594                                                                                                \n",
       "3;ATIRADORES;sde;24/08/2017 17:09:00;31/08/2017... 159463442396373;8558                                     105706777725572                                                                                                \n",
       "4;ANITA GARIBALDI;sde;24/08/2017 17:09:00;31/08... 210594619158655;8128                                      63004149320477                                                                                                \n",
       "5;FLORESTA;sde;24/08/2017 17:09:00;31/08/2017 0... 111440338194370;9424                                     607095108818612                                                                                                \n",
       "6;PROFIPO;sde;24/08/2017 17:09:00;31/08/2017 07... 033098310930654;5379                                     118094499631297                                                                                                \n",
       "7;BOEHMERWALD;sde;24/08/2017 17:09:00;31/08/201... 244373506400734;7197                                     243606435681613                                                                                                \n",
       "8;PETRÓPOLIS;sde;24/08/2017 17:09:00;31/08/2017... 744794007856399;9820                                     721008034057377                                                                                                \n",
       "9;JOÃO COSTA;sde;24/08/2017 17:09:00;31/08/2017... 379514855798334;8617                                     127037585103608                                                                                                \n",
       "10;JARIVATUBA;sde;24/08/2017 17:09:00;31/08/201... 000984499463812;6939                                     197136265966947                                                                                                \n",
       "11;ITAUM;sde;24/08/2017 17:09:00;31/08/2017 07:... 083635212387890;8850                                     106407319161008                                                                                                \n",
       "12;BUCAREIN;sde;24/08/2017 17:09:00;31/08/2017 ... 339271856704727;5887                                     823929651026447                                                                                                \n",
       "14;VILA NOVA;sde;24/08/2017 17:09:00;31/08/2017... 050169557332993;16509                                    225134708485712                                                                                                \n",
       "15;SAO MARCOS;sde;24/08/2017 17:09:00;31/08/201... 035931007936597;10813                                    812228676915765                                                                                                \n",
       "16;CENTRO;sde;24/08/2017 17:09:00;31/08/2017 07... 733957598917186;5015                                     343261282191634                                                                                                \n",
       "25;VILA CUBATÃO;u49111;24/08/2017 17:09:00;03/1... 290842056332622;2538                                     572883233875928                                                                                                \n",
       "17;AMÉRICA;sde;24/08/2017 17:09:00;31/08/2017 0... 648793780244887;9213                                     713289954410357                                                                                                \n",
       "18;SANTO ANTÔNIO;sde;24/08/2017 17:09:00;31/08/... 561926470138133;6151                                     362980583456192                                                                                                \n",
       "32;ESPINHEIROS;sde;24/08/2017 17:09:00;31/08/20... 632556288037449;6884                                     585931651008650                                                                                                \n",
       "19;BOM RETIRO;sde;24/08/2017 17:09:00;31/08/201... 849717033095658;9087                                     470474091776850                                                                                                \n",
       "20;IRIRIÚ;sde;24/08/2017 17:09:00;31/08/2017 07... 102302483282983;11171                                    153458302243962                                                                                                \n",
       "21;SAGUAÇU;sde;24/08/2017 17:09:00;31/08/2017 0... 701379268430173;12850                                    414676501113718                                                                                                \n",
       "22;JARDIM SOFIA;u49111;24/08/2017 17:09:00;05/1... 725428963080049;9520                                     538838070027850                                                                                                \n",
       "23;ZONA INDUSTRIAL NORTE;u49111;24/08/2017 17:0... 482116475701332;37526                                    619198983804381                                                                                                \n",
       "24;JARDIM PARAÍSO;u49111;24/08/2017 17:09:00;03... 292542146518826;12484                                    912681214535041                                                                                                \n",
       "28;NOVA BRASILIA;u49111;24/08/2017 17:09:00;14/... 835897844284773;12593                                    351107451848293                                                                                                \n",
       "29;MORRO DO MEIO;u44615;24/08/2017 17:09:00;09/... 565753790549934;11475                                    824073418998523                                                                                                \n",
       "30;ULYSSES GUIMARAES;sgc;24/08/2017 17:09:00;05... 157082153018564;8568                                     577350363822916                                                                                                \n",
       "31;PIRABEIRABA;sde;24/08/2017 17:09:00;31/08/20... 723070491105318;11390                                    655743213066671                                                                                                \n",
       "33;DONA FRANCISCA;sde;24/08/2017 17:09:00;31/08... 531982650980353;4918                                     310334583535223                                                                                                \n",
       "34;SANTA CATARINA;sde;24/08/2017 17:09:00;31/08... 439016972668469;11551                                    405466582344161                                                                                                \n",
       "36;FÁTIMA;sde;24/08/2017 17:09:00;31/08/2017 07... 091144542209804;6573                                      40767574961137                                                                                                \n",
       "35;ADHEMAR GARCIA;sde;24/08/2017 17:09:00;31/08... 216845105402172;6172                                     769074029348303                                                                                                \n",
       "37;GUANABARA;sde;24/08/2017 17:09:00;31/08/2017... 200865743216127;6923                                      16666943076416                                                                                                \n",
       "38;BOA VISTA;sde;24/08/2017 17:09:00;31/08/2017... 787734924815595;12978                                      8189146121367                                                                                                \n",
       "39;ZONA INDUSTRIAL TUPY;sde;24/08/2017 17:09:00... 274849417852238;5123                                     777468548418256                                                                                                \n",
       "40;COMASA;sde;24/08/2017 17:09:00;31/08/2017 07... 452367506921291;7325                                     624261904164086                                                                                                \n",
       "41;JARDIM IRIRIÚ;sde;24/08/2017 17:09:00;31/08/... 742422435898334;8343                                     158267345286731                                                                                                \n",
       "42;COSTA E SILVA;sde;24/08/2017 17:09:00;31/08/... 407854002900422;10960                                     44382429374309                                                                                                \n",
       "43;AVENTUREIRO;u44615;24/08/2017 17:09:00;24/04... 442375700920820;19511                                    619116002395458                                                                                                \n",
       "45;PARQUE GUARANI;u44615;24/08/2017 00:00:00;18... 009578338824213;9236                                      74821691418038                                                                                                \n",
       "46;PARANAGUAMIRIM;u44615;24/08/2017 00:00:00;18... 220446282997727;20748                                    670077068716637                                                                                                \n",
       "44;ITINGA;u49111;24/08/2017 00:00:00;05/10/2022... 455193564295769;12358                                    622422985208686                                                                                                "
      ]
     },
     "execution_count": 12,
     "metadata": {},
     "output_type": "execute_result"
    }
   ],
   "source": [
    "bairrostable"
   ]
  },
  {
   "cell_type": "code",
   "execution_count": null,
   "id": "b316ee0a-f0d6-494a-9d64-dac4dd785d4a",
   "metadata": {},
   "outputs": [],
   "source": []
  }
 ],
 "metadata": {
  "kernelspec": {
   "display_name": "Python 3 (ipykernel)",
   "language": "python",
   "name": "python3"
  },
  "language_info": {
   "codemirror_mode": {
    "name": "ipython",
    "version": 3
   },
   "file_extension": ".py",
   "mimetype": "text/x-python",
   "name": "python",
   "nbconvert_exporter": "python",
   "pygments_lexer": "ipython3",
   "version": "3.9.13"
  }
 },
 "nbformat": 4,
 "nbformat_minor": 5
}
